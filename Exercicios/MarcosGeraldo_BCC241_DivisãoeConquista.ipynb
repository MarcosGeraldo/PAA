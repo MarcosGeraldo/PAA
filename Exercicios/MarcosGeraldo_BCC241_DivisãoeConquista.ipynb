{
  "nbformat": 4,
  "nbformat_minor": 0,
  "metadata": {
    "colab": {
      "provenance": [],
      "collapsed_sections": []
    },
    "kernelspec": {
      "name": "python3",
      "display_name": "Python 3"
    },
    "language_info": {
      "name": "python"
    }
  },
  "cells": [
    {
      "cell_type": "markdown",
      "source": [
        "# Usando divisão e conquista forneça algoritmos para os itens a seguir e forneça a ordem de complexidade de tempo de execução:"
      ],
      "metadata": {
        "id": "PdGYU6z52hSe"
      }
    },
    {
      "cell_type": "markdown",
      "source": [
        "### a) Encontrar o maior valor em um vetor."
      ],
      "metadata": {
        "id": "rchlzvOY2eGy"
      }
    },
    {
      "cell_type": "code",
      "source": [
        "def buscaBinaria(vec,max):  #Custo das operações dentro da função, O(1), considerando que verificar o tamanho é O(1), chamada recursiva, T(n)=2T(n/2), pelo teorema mestre, d=0, a=1 e b=1, logo, O(n)\n",
        "  size=len(vec) \n",
        "  middle=int(size/2)\n",
        "  if(size==0):\n",
        "      return max\n",
        "  if(vec[middle]>max):  \n",
        "    max=vec[middle]\n",
        "  aux1=buscaBinaria(vec[0:middle],max) \n",
        "  aux2=buscaBinaria(vec[middle+1:size],max)\n",
        "  if(aux1>aux2):\n",
        "    return aux1\n",
        "  else:\n",
        "    return aux2\n"
      ],
      "metadata": {
        "id": "APhGFcaf2q1R"
      },
      "execution_count": 75,
      "outputs": []
    },
    {
      "cell_type": "code",
      "execution_count": 76,
      "metadata": {
        "colab": {
          "base_uri": "https://localhost:8080/"
        },
        "id": "iXAWlgRO2YVt",
        "outputId": "6d23d862-dafa-4784-84b6-ae1a032df535"
      },
      "outputs": [
        {
          "output_type": "stream",
          "name": "stdout",
          "text": [
            "92\n"
          ]
        }
      ],
      "source": [
        "x=[18,2,3,4,25,6,92,11,9,10]\n",
        "y= 0\n",
        "y= buscaBinaria(x,y)\n",
        "print(y)"
      ]
    },
    {
      "cell_type": "markdown",
      "source": [
        "### b) Encontrar o maior e o menor elemento em um vetor."
      ],
      "metadata": {
        "id": "HNbXPqq_2eZ8"
      }
    },
    {
      "cell_type": "code",
      "source": [
        "def buscaMinMax(vec,max,min): #Custo das operações dentro da função, O(1), considerando que verificar o tamanho é O(1), chamada recursiva, T(n)=2T(n/2), pelo teorema mestre, d=0, a=1 e b=1, logo, O(n)\n",
        "  size=len(vec)\n",
        "  middle=int(size/2)\n",
        "  if(size==0):\n",
        "      return max,min\n",
        "  if(vec[middle]>max):  \n",
        "    max=vec[middle]\n",
        "  if(vec[middle]<min):  \n",
        "    min=vec[middle]\n",
        "  auxMax1,auxMin1=buscaMinMax(vec[0:middle],max,min)\n",
        "  auxMax2,auxMin2=buscaMinMax(vec[middle+1:size],max,min)\n",
        "  if(auxMax1>auxMax2):\n",
        "    max= auxMax1\n",
        "  else:\n",
        "    max= auxMax2\n",
        "  if(auxMin1<auxMin2):\n",
        "    min= auxMin1\n",
        "  else:\n",
        "    min= auxMin2\n",
        "  return max,min"
      ],
      "metadata": {
        "id": "jcyC4UdE2rHt"
      },
      "execution_count": 77,
      "outputs": []
    },
    {
      "cell_type": "code",
      "source": [
        "x=[18,2,3,4,25,6,92,11,9,10]\n",
        "max=0\n",
        "min=9999999999\n",
        "max,min = buscaMinMax(x,max,min)\n",
        "print(max,min)"
      ],
      "metadata": {
        "colab": {
          "base_uri": "https://localhost:8080/"
        },
        "id": "vHftvW6S2eod",
        "outputId": "97d33836-2141-445b-9388-f4f10f5344ea"
      },
      "execution_count": 78,
      "outputs": [
        {
          "output_type": "stream",
          "name": "stdout",
          "text": [
            "92 2\n"
          ]
        }
      ]
    },
    {
      "cell_type": "markdown",
      "source": [
        "### c) Exponenciação."
      ],
      "metadata": {
        "id": "LkqVJLoP2e1V"
      }
    },
    {
      "cell_type": "code",
      "source": [
        "def exp(base,expoente):#Custo das operações dentro da função, O(1), considerando multiplicação O(n), chamada recursiva, T(n)=2T(n/2), pelo teorema mestre, d=1, a=1 e b=1, logo, O(n log n)\n",
        "  if(expoente==0):\n",
        "    return 1\n",
        "  if(expoente==1):\n",
        "    return base\n",
        "  if(expoente==2):\n",
        "    return base*base\n",
        "  part=int(expoente/2)\n",
        "  aux1=exp(base,part)\n",
        "  if(base%2==0):\n",
        "    aux2=exp(base,part)\n",
        "  else:\n",
        "    aux2=exp(base,part+1)\n",
        "  return aux1*aux2\n",
        "\n"
      ],
      "metadata": {
        "id": "2XJVXwTn2fHa"
      },
      "execution_count": 79,
      "outputs": []
    },
    {
      "cell_type": "code",
      "source": [
        "result1=exp(2,8)\n",
        "result2=exp(2,0)\n",
        "result3=exp(2,1)\n",
        "result4=exp(2,4)\n",
        "print(result1)\n",
        "print(result2)\n",
        "print(result3)\n",
        "print(result4)\n"
      ],
      "metadata": {
        "colab": {
          "base_uri": "https://localhost:8080/"
        },
        "id": "Kvj0V1jt2rYN",
        "outputId": "e6a3723b-4dcc-4132-9efc-ce74acfc6f2e"
      },
      "execution_count": 80,
      "outputs": [
        {
          "output_type": "stream",
          "name": "stdout",
          "text": [
            "256\n",
            "1\n",
            "2\n",
            "16\n"
          ]
        }
      ]
    }
  ]
}